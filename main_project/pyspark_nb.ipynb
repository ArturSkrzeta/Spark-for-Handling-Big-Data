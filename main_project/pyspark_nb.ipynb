{
 "cells": [
  {
   "cell_type": "markdown",
   "metadata": {},
   "source": [
    "# Analysis Purpose"
   ]
  },
  {
   "cell_type": "markdown",
   "metadata": {},
   "source": [
    "Below script builds data model which serves as the base for counting labels along with their current status."
   ]
  },
  {
   "cell_type": "markdown",
   "metadata": {},
   "source": [
    "# Libraries"
   ]
  },
  {
   "cell_type": "code",
   "execution_count": 1,
   "metadata": {},
   "outputs": [],
   "source": [
    "import findspark\n",
    "from pyspark import SparkConf, SparkContext\n",
    "from pyspark.sql import SparkSession\n",
    "\n",
    "findspark.init()\n",
    "conf = SparkConf().setMaster(\"local\").setAppName(\"Pivot\")\n",
    "sc = SparkContext.getOrCreate(conf = conf)\n",
    "spark = SparkSession(sc)"
   ]
  },
  {
   "cell_type": "markdown",
   "metadata": {},
   "source": [
    "# Variables"
   ]
  },
  {
   "cell_type": "code",
   "execution_count": 10,
   "metadata": {},
   "outputs": [],
   "source": [
    "file_name = \"kpi.csv\"\n",
    "month_year = \"7-2020\"\n",
    "csv_output_name = \"-\".join(['Company_Status',month_year])"
   ]
  },
  {
   "cell_type": "markdown",
   "metadata": {},
   "source": [
    "# Functions"
   ]
  },
  {
   "cell_type": "code",
   "execution_count": 3,
   "metadata": {},
   "outputs": [],
   "source": [
    "def parse_line(line):\n",
    "    fields = line.split(',')\n",
    "    date = str(fields[2])\n",
    "    category = str(fields[3])\n",
    "    status = str(fields[6])\n",
    "    return (category, status, date)\n",
    "\n",
    "def remove_chars(line):\n",
    "    chars = [\"(\",\")\",\"'\"]\n",
    "    for char in chars: \n",
    "        line = line.replace(char,'')\n",
    "    return line"
   ]
  },
  {
   "cell_type": "markdown",
   "metadata": {},
   "source": [
    "# RDD Data Model"
   ]
  },
  {
   "cell_type": "markdown",
   "metadata": {},
   "source": [
    "Preparing model which data will be going through."
   ]
  },
  {
   "cell_type": "code",
   "execution_count": 4,
   "metadata": {},
   "outputs": [],
   "source": [
    "# loading dataset\n",
    "lines = sc.textFile(file_name)\n",
    "\n",
    "# getting rdd from flat file\n",
    "# each line: (category, status, date)\n",
    "rdd = lines.map(parse_line)\n",
    "\n",
    "# filtering RDD out with specific mont-year value\n",
    "# only lines that meets TRUE from condition stays\n",
    "# (category, status, '7-2020')\n",
    "rdd_filtered_by_month = rdd.filter(lambda x: x[2] == month_year)\n",
    "\n",
    "# getting RDD key (category) - value (status, 1) pairs \n",
    "# map: each line - > (key, value))\n",
    "# ((category,status), 1))\n",
    "rdd_with_keys = rdd_filtered_by_month.map(lambda x: ((x[0],x[1]), 1))\n",
    "\n",
    "# reduceByKey: \n",
    "# ((key_1, value_1), 1) ->>  value 1 = x\n",
    "# ((key_1, value_1), 1) ->>  value 1 = y\n",
    "# ->\n",
    "# ((key_1, value_1) 2)\n",
    "totals_by_category_and_status = rdd_with_keys.reduceByKey(lambda x,y: x + y)\n",
    "\n",
    "# sorting\n",
    "sorted_rdd = totals_by_category_and_status.sortByKey()"
   ]
  },
  {
   "cell_type": "markdown",
   "metadata": {},
   "source": [
    "# Spark Data Frame"
   ]
  },
  {
   "cell_type": "markdown",
   "metadata": {},
   "source": [
    "If you just use toPandas() on the RDD, it won't work. Depending on the format of the objects in your RDD, some processing may be necessary to go to a Spark DataFrame first."
   ]
  },
  {
   "cell_type": "code",
   "execution_count": 5,
   "metadata": {
    "scrolled": false
   },
   "outputs": [
    {
     "name": "stdout",
     "output_type": "stream",
     "text": [
      "+---------+--------------+---+\n",
      "|       _1|            _2| _3|\n",
      "+---------+--------------+---+\n",
      "|company_a| Clarification| 82|\n",
      "|company_a|        Closed| 81|\n",
      "|company_a|   In Progress| 89|\n",
      "|company_a|       On hold| 90|\n",
      "|company_a|          Open| 80|\n",
      "|company_b| Clarification| 88|\n",
      "|company_b|        Closed| 73|\n",
      "|company_b|   In Progress| 77|\n",
      "|company_b|       On hold| 89|\n",
      "|company_b|          Open| 66|\n",
      "|company_c| Clarification| 82|\n",
      "|company_c|        Closed| 73|\n",
      "|company_c|   In Progress| 83|\n",
      "|company_c|       On hold| 72|\n",
      "|company_c|          Open| 79|\n",
      "+---------+--------------+---+\n",
      "\n"
     ]
    }
   ],
   "source": [
    "str_rdd = sorted_rdd.map(lambda x: str(x))\n",
    "trimmed_rdd = str_rdd.map(remove_chars)              \n",
    "spark_df = trimmed_rdd.map(lambda x: x.split(',')).toDF()\n",
    "spark_df.show()"
   ]
  },
  {
   "cell_type": "markdown",
   "metadata": {},
   "source": [
    "# List of Python Tuples"
   ]
  },
  {
   "cell_type": "markdown",
   "metadata": {},
   "source": [
    "Performing action on RDD with collect() returns data to Python."
   ]
  },
  {
   "cell_type": "code",
   "execution_count": 6,
   "metadata": {
    "scrolled": true
   },
   "outputs": [
    {
     "name": "stdout",
     "output_type": "stream",
     "text": [
      "(('company_a', 'Clarification'), 82)\n",
      "(('company_a', 'Closed'), 81)\n",
      "(('company_a', 'In Progress'), 89)\n",
      "(('company_a', 'On hold'), 90)\n",
      "(('company_a', 'Open'), 80)\n",
      "\n",
      "(('company_b', 'Clarification'), 88)\n",
      "(('company_b', 'Closed'), 73)\n",
      "(('company_b', 'In Progress'), 77)\n",
      "(('company_b', 'On hold'), 89)\n",
      "(('company_b', 'Open'), 66)\n",
      "\n",
      "(('company_c', 'Clarification'), 82)\n",
      "(('company_c', 'Closed'), 73)\n",
      "(('company_c', 'In Progress'), 83)\n",
      "(('company_c', 'On hold'), 72)\n",
      "(('company_c', 'Open'), 79)\n",
      "\n"
     ]
    }
   ],
   "source": [
    "# collect() transforms RDD into python tuple\n",
    "results = sorted_rdd.collect()\n",
    "for result in results:\n",
    "    print(result)\n",
    "    if result[0][1] == 'Open':\n",
    "        print(\"\")"
   ]
  },
  {
   "cell_type": "markdown",
   "metadata": {},
   "source": [
    "# Pandas Data Frame"
   ]
  },
  {
   "cell_type": "markdown",
   "metadata": {},
   "source": [
    "Having Spark Data Frame already created, we can convert it into Pandas Data Frame."
   ]
  },
  {
   "cell_type": "code",
   "execution_count": 7,
   "metadata": {},
   "outputs": [
    {
     "data": {
      "text/html": [
       "<div>\n",
       "<style scoped>\n",
       "    .dataframe tbody tr th:only-of-type {\n",
       "        vertical-align: middle;\n",
       "    }\n",
       "\n",
       "    .dataframe tbody tr th {\n",
       "        vertical-align: top;\n",
       "    }\n",
       "\n",
       "    .dataframe thead th {\n",
       "        text-align: right;\n",
       "    }\n",
       "</style>\n",
       "<table border=\"1\" class=\"dataframe\">\n",
       "  <thead>\n",
       "    <tr style=\"text-align: right;\">\n",
       "      <th></th>\n",
       "      <th>_1</th>\n",
       "      <th>_2</th>\n",
       "      <th>_3</th>\n",
       "    </tr>\n",
       "  </thead>\n",
       "  <tbody>\n",
       "    <tr>\n",
       "      <th>0</th>\n",
       "      <td>company_a</td>\n",
       "      <td>Clarification</td>\n",
       "      <td>82</td>\n",
       "    </tr>\n",
       "    <tr>\n",
       "      <th>1</th>\n",
       "      <td>company_a</td>\n",
       "      <td>Closed</td>\n",
       "      <td>81</td>\n",
       "    </tr>\n",
       "    <tr>\n",
       "      <th>2</th>\n",
       "      <td>company_a</td>\n",
       "      <td>In Progress</td>\n",
       "      <td>89</td>\n",
       "    </tr>\n",
       "    <tr>\n",
       "      <th>3</th>\n",
       "      <td>company_a</td>\n",
       "      <td>On hold</td>\n",
       "      <td>90</td>\n",
       "    </tr>\n",
       "    <tr>\n",
       "      <th>4</th>\n",
       "      <td>company_a</td>\n",
       "      <td>Open</td>\n",
       "      <td>80</td>\n",
       "    </tr>\n",
       "    <tr>\n",
       "      <th>5</th>\n",
       "      <td>company_b</td>\n",
       "      <td>Clarification</td>\n",
       "      <td>88</td>\n",
       "    </tr>\n",
       "    <tr>\n",
       "      <th>6</th>\n",
       "      <td>company_b</td>\n",
       "      <td>Closed</td>\n",
       "      <td>73</td>\n",
       "    </tr>\n",
       "    <tr>\n",
       "      <th>7</th>\n",
       "      <td>company_b</td>\n",
       "      <td>In Progress</td>\n",
       "      <td>77</td>\n",
       "    </tr>\n",
       "    <tr>\n",
       "      <th>8</th>\n",
       "      <td>company_b</td>\n",
       "      <td>On hold</td>\n",
       "      <td>89</td>\n",
       "    </tr>\n",
       "    <tr>\n",
       "      <th>9</th>\n",
       "      <td>company_b</td>\n",
       "      <td>Open</td>\n",
       "      <td>66</td>\n",
       "    </tr>\n",
       "    <tr>\n",
       "      <th>10</th>\n",
       "      <td>company_c</td>\n",
       "      <td>Clarification</td>\n",
       "      <td>82</td>\n",
       "    </tr>\n",
       "    <tr>\n",
       "      <th>11</th>\n",
       "      <td>company_c</td>\n",
       "      <td>Closed</td>\n",
       "      <td>73</td>\n",
       "    </tr>\n",
       "    <tr>\n",
       "      <th>12</th>\n",
       "      <td>company_c</td>\n",
       "      <td>In Progress</td>\n",
       "      <td>83</td>\n",
       "    </tr>\n",
       "    <tr>\n",
       "      <th>13</th>\n",
       "      <td>company_c</td>\n",
       "      <td>On hold</td>\n",
       "      <td>72</td>\n",
       "    </tr>\n",
       "    <tr>\n",
       "      <th>14</th>\n",
       "      <td>company_c</td>\n",
       "      <td>Open</td>\n",
       "      <td>79</td>\n",
       "    </tr>\n",
       "  </tbody>\n",
       "</table>\n",
       "</div>"
      ],
      "text/plain": [
       "           _1              _2   _3\n",
       "0   company_a   Clarification   82\n",
       "1   company_a          Closed   81\n",
       "2   company_a     In Progress   89\n",
       "3   company_a         On hold   90\n",
       "4   company_a            Open   80\n",
       "5   company_b   Clarification   88\n",
       "6   company_b          Closed   73\n",
       "7   company_b     In Progress   77\n",
       "8   company_b         On hold   89\n",
       "9   company_b            Open   66\n",
       "10  company_c   Clarification   82\n",
       "11  company_c          Closed   73\n",
       "12  company_c     In Progress   83\n",
       "13  company_c         On hold   72\n",
       "14  company_c            Open   79"
      ]
     },
     "execution_count": 7,
     "metadata": {},
     "output_type": "execute_result"
    }
   ],
   "source": [
    "pd_df = spark_df.toPandas()\n",
    "pd_df"
   ]
  },
  {
   "cell_type": "markdown",
   "metadata": {},
   "source": [
    "# Load Data"
   ]
  },
  {
   "cell_type": "markdown",
   "metadata": {},
   "source": [
    "Pandas Data Frame allows to export data processed by the RDD Model."
   ]
  },
  {
   "cell_type": "code",
   "execution_count": 14,
   "metadata": {},
   "outputs": [],
   "source": [
    "pd_df.to_csv(csv_output_name + '.csv', index=False)"
   ]
  }
 ],
 "metadata": {
  "kernelspec": {
   "display_name": "Python 3",
   "language": "python",
   "name": "python3"
  },
  "language_info": {
   "codemirror_mode": {
    "name": "ipython",
    "version": 3
   },
   "file_extension": ".py",
   "mimetype": "text/x-python",
   "name": "python",
   "nbconvert_exporter": "python",
   "pygments_lexer": "ipython3",
   "version": "3.7.6"
  }
 },
 "nbformat": 4,
 "nbformat_minor": 4
}
